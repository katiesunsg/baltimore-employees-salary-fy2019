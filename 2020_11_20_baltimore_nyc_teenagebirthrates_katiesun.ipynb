{
  "nbformat": 4,
  "nbformat_minor": 0,
  "metadata": {
    "colab": {
      "name": "2020-11-20-baltimore-nyc-teenagebirthrates-katiesun.ipynb",
      "provenance": [],
      "authorship_tag": "ABX9TyOhzJR9RRHuy8y24YuHh2Lj",
      "include_colab_link": true
    },
    "kernelspec": {
      "name": "python3",
      "display_name": "Python 3"
    }
  },
  "cells": [
    {
      "cell_type": "markdown",
      "metadata": {
        "id": "view-in-github",
        "colab_type": "text"
      },
      "source": [
        "<a href=\"https://colab.research.google.com/github/katiesunsg/baltimore-employees-salary-fy2019/blob/main/2020_11_20_baltimore_nyc_teenagebirthrates_katiesun.ipynb\" target=\"_parent\"><img src=\"https://colab.research.google.com/assets/colab-badge.svg\" alt=\"Open In Colab\"/></a>"
      ]
    },
    {
      "cell_type": "markdown",
      "metadata": {
        "id": "HqV_D2ht0i1q"
      },
      "source": [
        "# Comparing Baltimore and New York City Teenage Birth Rates by Income Level\n",
        "* How does teenage birth rates differ by income level (high, middle, low)?\n",
        "* How does teenage birth rates in both ciites differ when factoring in race?"
      ]
    },
    {
      "cell_type": "code",
      "metadata": {
        "id": "Il__OO4iztcC"
      },
      "source": [
        ""
      ],
      "execution_count": null,
      "outputs": []
    }
  ]
}